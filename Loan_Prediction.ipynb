{
  "cells": [
    {
      "cell_type": "markdown",
      "metadata": {
        "id": "view-in-github",
        "colab_type": "text"
      },
      "source": [
        "<a href=\"https://colab.research.google.com/github/bhavya1234/Loan-Prediction/blob/main/Loan_Prediction.ipynb\" target=\"_parent\"><img src=\"https://colab.research.google.com/assets/colab-badge.svg\" alt=\"Open In Colab\"/></a>"
      ]
    },
    {
      "cell_type": "markdown",
      "metadata": {
        "id": "OTcpIGJN1Q5b"
      },
      "source": [
        "<h1>PROBLEM</h1> Company wants to automate the loan eligibility process (real time) based on customer detail provided while filling online application form. These details are Gender, Marital Status, Education, Number of Dependents, Income, Loan Amount, Credit History and others. To automate this process, they have provided a dataset to identify the customers segments that are eligible for loan amount so that they can specifically target these customers.\n",
        "\n",
        "\n",
        "---\n",
        "\n",
        "\n"
      ]
    },
    {
      "cell_type": "code",
      "execution_count": 1,
      "metadata": {
        "id": "CkXznqKovpLx"
      },
      "outputs": [],
      "source": [
        "import pandas as pd\n",
        "import numpy as np\n",
        "import matplotlib.pyplot as plt\n",
        "import seaborn as sns\n",
        "\n",
        "data = pd.read_csv('/content/drive/MyDrive/Colab Notebooks/datasets/train_ctrUa4K.csv')\n",
        "test = pd.read_csv('/content/drive/MyDrive/Colab Notebooks/datasets/test_lAUu6dG.csv')"
      ]
    },
    {
      "cell_type": "code",
      "execution_count": 2,
      "metadata": {
        "colab": {
          "base_uri": "https://localhost:8080/",
          "height": 250
        },
        "id": "u6n3WOE54L_B",
        "outputId": "171316e9-ce4e-45bf-e9fd-0140e950c8ff"
      },
      "outputs": [
        {
          "output_type": "execute_result",
          "data": {
            "text/plain": [
              "    Loan_ID Gender Married Dependents     Education Self_Employed  \\\n",
              "0  LP001002   Male      No          0      Graduate            No   \n",
              "1  LP001003   Male     Yes          1      Graduate            No   \n",
              "2  LP001005   Male     Yes          0      Graduate           Yes   \n",
              "3  LP001006   Male     Yes          0  Not Graduate            No   \n",
              "4  LP001008   Male      No          0      Graduate            No   \n",
              "\n",
              "   ApplicantIncome  CoapplicantIncome  LoanAmount  Loan_Amount_Term  \\\n",
              "0             5849                0.0         NaN             360.0   \n",
              "1             4583             1508.0       128.0             360.0   \n",
              "2             3000                0.0        66.0             360.0   \n",
              "3             2583             2358.0       120.0             360.0   \n",
              "4             6000                0.0       141.0             360.0   \n",
              "\n",
              "   Credit_History Property_Area Loan_Status  \n",
              "0             1.0         Urban           Y  \n",
              "1             1.0         Rural           N  \n",
              "2             1.0         Urban           Y  \n",
              "3             1.0         Urban           Y  \n",
              "4             1.0         Urban           Y  "
            ],
            "text/html": [
              "\n",
              "  <div id=\"df-68d87968-7d68-4398-8a19-e4eceaf056b6\">\n",
              "    <div class=\"colab-df-container\">\n",
              "      <div>\n",
              "<style scoped>\n",
              "    .dataframe tbody tr th:only-of-type {\n",
              "        vertical-align: middle;\n",
              "    }\n",
              "\n",
              "    .dataframe tbody tr th {\n",
              "        vertical-align: top;\n",
              "    }\n",
              "\n",
              "    .dataframe thead th {\n",
              "        text-align: right;\n",
              "    }\n",
              "</style>\n",
              "<table border=\"1\" class=\"dataframe\">\n",
              "  <thead>\n",
              "    <tr style=\"text-align: right;\">\n",
              "      <th></th>\n",
              "      <th>Loan_ID</th>\n",
              "      <th>Gender</th>\n",
              "      <th>Married</th>\n",
              "      <th>Dependents</th>\n",
              "      <th>Education</th>\n",
              "      <th>Self_Employed</th>\n",
              "      <th>ApplicantIncome</th>\n",
              "      <th>CoapplicantIncome</th>\n",
              "      <th>LoanAmount</th>\n",
              "      <th>Loan_Amount_Term</th>\n",
              "      <th>Credit_History</th>\n",
              "      <th>Property_Area</th>\n",
              "      <th>Loan_Status</th>\n",
              "    </tr>\n",
              "  </thead>\n",
              "  <tbody>\n",
              "    <tr>\n",
              "      <th>0</th>\n",
              "      <td>LP001002</td>\n",
              "      <td>Male</td>\n",
              "      <td>No</td>\n",
              "      <td>0</td>\n",
              "      <td>Graduate</td>\n",
              "      <td>No</td>\n",
              "      <td>5849</td>\n",
              "      <td>0.0</td>\n",
              "      <td>NaN</td>\n",
              "      <td>360.0</td>\n",
              "      <td>1.0</td>\n",
              "      <td>Urban</td>\n",
              "      <td>Y</td>\n",
              "    </tr>\n",
              "    <tr>\n",
              "      <th>1</th>\n",
              "      <td>LP001003</td>\n",
              "      <td>Male</td>\n",
              "      <td>Yes</td>\n",
              "      <td>1</td>\n",
              "      <td>Graduate</td>\n",
              "      <td>No</td>\n",
              "      <td>4583</td>\n",
              "      <td>1508.0</td>\n",
              "      <td>128.0</td>\n",
              "      <td>360.0</td>\n",
              "      <td>1.0</td>\n",
              "      <td>Rural</td>\n",
              "      <td>N</td>\n",
              "    </tr>\n",
              "    <tr>\n",
              "      <th>2</th>\n",
              "      <td>LP001005</td>\n",
              "      <td>Male</td>\n",
              "      <td>Yes</td>\n",
              "      <td>0</td>\n",
              "      <td>Graduate</td>\n",
              "      <td>Yes</td>\n",
              "      <td>3000</td>\n",
              "      <td>0.0</td>\n",
              "      <td>66.0</td>\n",
              "      <td>360.0</td>\n",
              "      <td>1.0</td>\n",
              "      <td>Urban</td>\n",
              "      <td>Y</td>\n",
              "    </tr>\n",
              "    <tr>\n",
              "      <th>3</th>\n",
              "      <td>LP001006</td>\n",
              "      <td>Male</td>\n",
              "      <td>Yes</td>\n",
              "      <td>0</td>\n",
              "      <td>Not Graduate</td>\n",
              "      <td>No</td>\n",
              "      <td>2583</td>\n",
              "      <td>2358.0</td>\n",
              "      <td>120.0</td>\n",
              "      <td>360.0</td>\n",
              "      <td>1.0</td>\n",
              "      <td>Urban</td>\n",
              "      <td>Y</td>\n",
              "    </tr>\n",
              "    <tr>\n",
              "      <th>4</th>\n",
              "      <td>LP001008</td>\n",
              "      <td>Male</td>\n",
              "      <td>No</td>\n",
              "      <td>0</td>\n",
              "      <td>Graduate</td>\n",
              "      <td>No</td>\n",
              "      <td>6000</td>\n",
              "      <td>0.0</td>\n",
              "      <td>141.0</td>\n",
              "      <td>360.0</td>\n",
              "      <td>1.0</td>\n",
              "      <td>Urban</td>\n",
              "      <td>Y</td>\n",
              "    </tr>\n",
              "  </tbody>\n",
              "</table>\n",
              "</div>\n",
              "      <button class=\"colab-df-convert\" onclick=\"convertToInteractive('df-68d87968-7d68-4398-8a19-e4eceaf056b6')\"\n",
              "              title=\"Convert this dataframe to an interactive table.\"\n",
              "              style=\"display:none;\">\n",
              "        \n",
              "  <svg xmlns=\"http://www.w3.org/2000/svg\" height=\"24px\"viewBox=\"0 0 24 24\"\n",
              "       width=\"24px\">\n",
              "    <path d=\"M0 0h24v24H0V0z\" fill=\"none\"/>\n",
              "    <path d=\"M18.56 5.44l.94 2.06.94-2.06 2.06-.94-2.06-.94-.94-2.06-.94 2.06-2.06.94zm-11 1L8.5 8.5l.94-2.06 2.06-.94-2.06-.94L8.5 2.5l-.94 2.06-2.06.94zm10 10l.94 2.06.94-2.06 2.06-.94-2.06-.94-.94-2.06-.94 2.06-2.06.94z\"/><path d=\"M17.41 7.96l-1.37-1.37c-.4-.4-.92-.59-1.43-.59-.52 0-1.04.2-1.43.59L10.3 9.45l-7.72 7.72c-.78.78-.78 2.05 0 2.83L4 21.41c.39.39.9.59 1.41.59.51 0 1.02-.2 1.41-.59l7.78-7.78 2.81-2.81c.8-.78.8-2.07 0-2.86zM5.41 20L4 18.59l7.72-7.72 1.47 1.35L5.41 20z\"/>\n",
              "  </svg>\n",
              "      </button>\n",
              "      \n",
              "  <style>\n",
              "    .colab-df-container {\n",
              "      display:flex;\n",
              "      flex-wrap:wrap;\n",
              "      gap: 12px;\n",
              "    }\n",
              "\n",
              "    .colab-df-convert {\n",
              "      background-color: #E8F0FE;\n",
              "      border: none;\n",
              "      border-radius: 50%;\n",
              "      cursor: pointer;\n",
              "      display: none;\n",
              "      fill: #1967D2;\n",
              "      height: 32px;\n",
              "      padding: 0 0 0 0;\n",
              "      width: 32px;\n",
              "    }\n",
              "\n",
              "    .colab-df-convert:hover {\n",
              "      background-color: #E2EBFA;\n",
              "      box-shadow: 0px 1px 2px rgba(60, 64, 67, 0.3), 0px 1px 3px 1px rgba(60, 64, 67, 0.15);\n",
              "      fill: #174EA6;\n",
              "    }\n",
              "\n",
              "    [theme=dark] .colab-df-convert {\n",
              "      background-color: #3B4455;\n",
              "      fill: #D2E3FC;\n",
              "    }\n",
              "\n",
              "    [theme=dark] .colab-df-convert:hover {\n",
              "      background-color: #434B5C;\n",
              "      box-shadow: 0px 1px 3px 1px rgba(0, 0, 0, 0.15);\n",
              "      filter: drop-shadow(0px 1px 2px rgba(0, 0, 0, 0.3));\n",
              "      fill: #FFFFFF;\n",
              "    }\n",
              "  </style>\n",
              "\n",
              "      <script>\n",
              "        const buttonEl =\n",
              "          document.querySelector('#df-68d87968-7d68-4398-8a19-e4eceaf056b6 button.colab-df-convert');\n",
              "        buttonEl.style.display =\n",
              "          google.colab.kernel.accessAllowed ? 'block' : 'none';\n",
              "\n",
              "        async function convertToInteractive(key) {\n",
              "          const element = document.querySelector('#df-68d87968-7d68-4398-8a19-e4eceaf056b6');\n",
              "          const dataTable =\n",
              "            await google.colab.kernel.invokeFunction('convertToInteractive',\n",
              "                                                     [key], {});\n",
              "          if (!dataTable) return;\n",
              "\n",
              "          const docLinkHtml = 'Like what you see? Visit the ' +\n",
              "            '<a target=\"_blank\" href=https://colab.research.google.com/notebooks/data_table.ipynb>data table notebook</a>'\n",
              "            + ' to learn more about interactive tables.';\n",
              "          element.innerHTML = '';\n",
              "          dataTable['output_type'] = 'display_data';\n",
              "          await google.colab.output.renderOutput(dataTable, element);\n",
              "          const docLink = document.createElement('div');\n",
              "          docLink.innerHTML = docLinkHtml;\n",
              "          element.appendChild(docLink);\n",
              "        }\n",
              "      </script>\n",
              "    </div>\n",
              "  </div>\n",
              "  "
            ]
          },
          "metadata": {},
          "execution_count": 2
        }
      ],
      "source": [
        "data.head()"
      ]
    },
    {
      "cell_type": "code",
      "execution_count": 3,
      "metadata": {
        "colab": {
          "base_uri": "https://localhost:8080/",
          "height": 301
        },
        "id": "4rXnP2k94exX",
        "outputId": "447fcd79-a8f7-4f50-b106-fe789f6ef984"
      },
      "outputs": [
        {
          "output_type": "execute_result",
          "data": {
            "text/plain": [
              "       ApplicantIncome  CoapplicantIncome  LoanAmount  Loan_Amount_Term  \\\n",
              "count       614.000000         614.000000  592.000000         600.00000   \n",
              "mean       5403.459283        1621.245798  146.412162         342.00000   \n",
              "std        6109.041673        2926.248369   85.587325          65.12041   \n",
              "min         150.000000           0.000000    9.000000          12.00000   \n",
              "25%        2877.500000           0.000000  100.000000         360.00000   \n",
              "50%        3812.500000        1188.500000  128.000000         360.00000   \n",
              "75%        5795.000000        2297.250000  168.000000         360.00000   \n",
              "max       81000.000000       41667.000000  700.000000         480.00000   \n",
              "\n",
              "       Credit_History  \n",
              "count      564.000000  \n",
              "mean         0.842199  \n",
              "std          0.364878  \n",
              "min          0.000000  \n",
              "25%          1.000000  \n",
              "50%          1.000000  \n",
              "75%          1.000000  \n",
              "max          1.000000  "
            ],
            "text/html": [
              "\n",
              "  <div id=\"df-6f897fdc-25be-4df0-b70f-afe6e2090ef1\">\n",
              "    <div class=\"colab-df-container\">\n",
              "      <div>\n",
              "<style scoped>\n",
              "    .dataframe tbody tr th:only-of-type {\n",
              "        vertical-align: middle;\n",
              "    }\n",
              "\n",
              "    .dataframe tbody tr th {\n",
              "        vertical-align: top;\n",
              "    }\n",
              "\n",
              "    .dataframe thead th {\n",
              "        text-align: right;\n",
              "    }\n",
              "</style>\n",
              "<table border=\"1\" class=\"dataframe\">\n",
              "  <thead>\n",
              "    <tr style=\"text-align: right;\">\n",
              "      <th></th>\n",
              "      <th>ApplicantIncome</th>\n",
              "      <th>CoapplicantIncome</th>\n",
              "      <th>LoanAmount</th>\n",
              "      <th>Loan_Amount_Term</th>\n",
              "      <th>Credit_History</th>\n",
              "    </tr>\n",
              "  </thead>\n",
              "  <tbody>\n",
              "    <tr>\n",
              "      <th>count</th>\n",
              "      <td>614.000000</td>\n",
              "      <td>614.000000</td>\n",
              "      <td>592.000000</td>\n",
              "      <td>600.00000</td>\n",
              "      <td>564.000000</td>\n",
              "    </tr>\n",
              "    <tr>\n",
              "      <th>mean</th>\n",
              "      <td>5403.459283</td>\n",
              "      <td>1621.245798</td>\n",
              "      <td>146.412162</td>\n",
              "      <td>342.00000</td>\n",
              "      <td>0.842199</td>\n",
              "    </tr>\n",
              "    <tr>\n",
              "      <th>std</th>\n",
              "      <td>6109.041673</td>\n",
              "      <td>2926.248369</td>\n",
              "      <td>85.587325</td>\n",
              "      <td>65.12041</td>\n",
              "      <td>0.364878</td>\n",
              "    </tr>\n",
              "    <tr>\n",
              "      <th>min</th>\n",
              "      <td>150.000000</td>\n",
              "      <td>0.000000</td>\n",
              "      <td>9.000000</td>\n",
              "      <td>12.00000</td>\n",
              "      <td>0.000000</td>\n",
              "    </tr>\n",
              "    <tr>\n",
              "      <th>25%</th>\n",
              "      <td>2877.500000</td>\n",
              "      <td>0.000000</td>\n",
              "      <td>100.000000</td>\n",
              "      <td>360.00000</td>\n",
              "      <td>1.000000</td>\n",
              "    </tr>\n",
              "    <tr>\n",
              "      <th>50%</th>\n",
              "      <td>3812.500000</td>\n",
              "      <td>1188.500000</td>\n",
              "      <td>128.000000</td>\n",
              "      <td>360.00000</td>\n",
              "      <td>1.000000</td>\n",
              "    </tr>\n",
              "    <tr>\n",
              "      <th>75%</th>\n",
              "      <td>5795.000000</td>\n",
              "      <td>2297.250000</td>\n",
              "      <td>168.000000</td>\n",
              "      <td>360.00000</td>\n",
              "      <td>1.000000</td>\n",
              "    </tr>\n",
              "    <tr>\n",
              "      <th>max</th>\n",
              "      <td>81000.000000</td>\n",
              "      <td>41667.000000</td>\n",
              "      <td>700.000000</td>\n",
              "      <td>480.00000</td>\n",
              "      <td>1.000000</td>\n",
              "    </tr>\n",
              "  </tbody>\n",
              "</table>\n",
              "</div>\n",
              "      <button class=\"colab-df-convert\" onclick=\"convertToInteractive('df-6f897fdc-25be-4df0-b70f-afe6e2090ef1')\"\n",
              "              title=\"Convert this dataframe to an interactive table.\"\n",
              "              style=\"display:none;\">\n",
              "        \n",
              "  <svg xmlns=\"http://www.w3.org/2000/svg\" height=\"24px\"viewBox=\"0 0 24 24\"\n",
              "       width=\"24px\">\n",
              "    <path d=\"M0 0h24v24H0V0z\" fill=\"none\"/>\n",
              "    <path d=\"M18.56 5.44l.94 2.06.94-2.06 2.06-.94-2.06-.94-.94-2.06-.94 2.06-2.06.94zm-11 1L8.5 8.5l.94-2.06 2.06-.94-2.06-.94L8.5 2.5l-.94 2.06-2.06.94zm10 10l.94 2.06.94-2.06 2.06-.94-2.06-.94-.94-2.06-.94 2.06-2.06.94z\"/><path d=\"M17.41 7.96l-1.37-1.37c-.4-.4-.92-.59-1.43-.59-.52 0-1.04.2-1.43.59L10.3 9.45l-7.72 7.72c-.78.78-.78 2.05 0 2.83L4 21.41c.39.39.9.59 1.41.59.51 0 1.02-.2 1.41-.59l7.78-7.78 2.81-2.81c.8-.78.8-2.07 0-2.86zM5.41 20L4 18.59l7.72-7.72 1.47 1.35L5.41 20z\"/>\n",
              "  </svg>\n",
              "      </button>\n",
              "      \n",
              "  <style>\n",
              "    .colab-df-container {\n",
              "      display:flex;\n",
              "      flex-wrap:wrap;\n",
              "      gap: 12px;\n",
              "    }\n",
              "\n",
              "    .colab-df-convert {\n",
              "      background-color: #E8F0FE;\n",
              "      border: none;\n",
              "      border-radius: 50%;\n",
              "      cursor: pointer;\n",
              "      display: none;\n",
              "      fill: #1967D2;\n",
              "      height: 32px;\n",
              "      padding: 0 0 0 0;\n",
              "      width: 32px;\n",
              "    }\n",
              "\n",
              "    .colab-df-convert:hover {\n",
              "      background-color: #E2EBFA;\n",
              "      box-shadow: 0px 1px 2px rgba(60, 64, 67, 0.3), 0px 1px 3px 1px rgba(60, 64, 67, 0.15);\n",
              "      fill: #174EA6;\n",
              "    }\n",
              "\n",
              "    [theme=dark] .colab-df-convert {\n",
              "      background-color: #3B4455;\n",
              "      fill: #D2E3FC;\n",
              "    }\n",
              "\n",
              "    [theme=dark] .colab-df-convert:hover {\n",
              "      background-color: #434B5C;\n",
              "      box-shadow: 0px 1px 3px 1px rgba(0, 0, 0, 0.15);\n",
              "      filter: drop-shadow(0px 1px 2px rgba(0, 0, 0, 0.3));\n",
              "      fill: #FFFFFF;\n",
              "    }\n",
              "  </style>\n",
              "\n",
              "      <script>\n",
              "        const buttonEl =\n",
              "          document.querySelector('#df-6f897fdc-25be-4df0-b70f-afe6e2090ef1 button.colab-df-convert');\n",
              "        buttonEl.style.display =\n",
              "          google.colab.kernel.accessAllowed ? 'block' : 'none';\n",
              "\n",
              "        async function convertToInteractive(key) {\n",
              "          const element = document.querySelector('#df-6f897fdc-25be-4df0-b70f-afe6e2090ef1');\n",
              "          const dataTable =\n",
              "            await google.colab.kernel.invokeFunction('convertToInteractive',\n",
              "                                                     [key], {});\n",
              "          if (!dataTable) return;\n",
              "\n",
              "          const docLinkHtml = 'Like what you see? Visit the ' +\n",
              "            '<a target=\"_blank\" href=https://colab.research.google.com/notebooks/data_table.ipynb>data table notebook</a>'\n",
              "            + ' to learn more about interactive tables.';\n",
              "          element.innerHTML = '';\n",
              "          dataTable['output_type'] = 'display_data';\n",
              "          await google.colab.output.renderOutput(dataTable, element);\n",
              "          const docLink = document.createElement('div');\n",
              "          docLink.innerHTML = docLinkHtml;\n",
              "          element.appendChild(docLink);\n",
              "        }\n",
              "      </script>\n",
              "    </div>\n",
              "  </div>\n",
              "  "
            ]
          },
          "metadata": {},
          "execution_count": 3
        }
      ],
      "source": [
        "data.describe()"
      ]
    },
    {
      "cell_type": "markdown",
      "metadata": {
        "id": "0ylYCJdj4_x4"
      },
      "source": [
        "Find the frequency distribution for the non-numerical values to see if they make sense."
      ]
    },
    {
      "cell_type": "code",
      "execution_count": 4,
      "metadata": {
        "colab": {
          "base_uri": "https://localhost:8080/"
        },
        "id": "0hv8avfo5X3t",
        "outputId": "508f7de1-abd3-4611-f84e-a1c769d8162e"
      },
      "outputs": [
        {
          "output_type": "execute_result",
          "data": {
            "text/plain": [
              "Semiurban    233\n",
              "Urban        202\n",
              "Rural        179\n",
              "Name: Property_Area, dtype: int64"
            ]
          },
          "metadata": {},
          "execution_count": 4
        }
      ],
      "source": [
        "data['Property_Area'].value_counts()"
      ]
    },
    {
      "cell_type": "markdown",
      "metadata": {
        "id": "hYc1vqPf50_x"
      },
      "source": [
        "Understanding Distribution of Numerical Variables ( ApplicantIncome ,LoanAmount )\n",
        "\n",
        "\n",
        "\n"
      ]
    },
    {
      "cell_type": "code",
      "execution_count": 5,
      "metadata": {
        "colab": {
          "base_uri": "https://localhost:8080/",
          "height": 472
        },
        "id": "dxqtgB6i50pO",
        "outputId": "fced66ff-aa50-44ae-b514-4c31a9b9d2f5"
      },
      "outputs": [
        {
          "output_type": "display_data",
          "data": {
            "text/plain": [
              "<Figure size 640x480 with 1 Axes>"
            ],
            "image/png": "[encoded data removed]"
          },
          "metadata": {}
        }
      ],
      "source": [
        "plt.boxplot(data['ApplicantIncome'])\n",
        "plt.xlabel('Applicant Income')\n",
        "plt.ylabel('Value')\n",
        "plt.title('Boxplot of Applicant Income')\n",
        "plt.show()"
      ]
    },
    {
      "cell_type": "markdown",
      "metadata": {
        "id": "SynJCt0--nyL"
      },
      "source": [
        "The above Box Plot confirms the presence of a lot of outliers. This can be attributed to the income disparity in the society."
      ]
    },
    {
      "cell_type": "code",
      "execution_count": 6,
      "metadata": {
        "colab": {
          "base_uri": "https://localhost:8080/",
          "height": 478
        },
        "id": "OQ80VBY3-G0X",
        "outputId": "ab53f966-daba-4615-8b68-d8c71b4fc67a"
      },
      "outputs": [
        {
          "output_type": "display_data",
          "data": {
            "text/plain": [
              "<Figure size 640x480 with 1 Axes>"
            ],
            "image/png": "[encoded data removed]"
          },
          "metadata": {}
        }
      ],
      "source": [
        "data.boxplot(column='ApplicantIncome', by='Education')\n",
        "plt.xlabel('Education')\n",
        "plt.ylabel('Applicant Income')\n",
        "plt.show()"
      ]
    },
    {
      "cell_type": "markdown",
      "metadata": {
        "id": "rTCGwif8-8HZ"
      },
      "source": [
        "We can see that there is no substantial different between the mean income of graduate and non-graduates. But there are a higher number of graduates with very high incomes, which are appearing to be the outliers"
      ]
    },
    {
      "cell_type": "code",
      "execution_count": 7,
      "metadata": {
        "colab": {
          "base_uri": "https://localhost:8080/",
          "height": 472
        },
        "id": "0erY1CZD-81F",
        "outputId": "3f6a34dd-627b-4628-f9ea-e3b77bdc5122"
      },
      "outputs": [
        {
          "output_type": "display_data",
          "data": {
            "text/plain": [
              "<Figure size 640x480 with 1 Axes>"
            ],
            "image/png": "[encoded data removed]"
          },
          "metadata": {}
        }
      ],
      "source": [
        "data['LoanAmount'].hist(bins=50)\n",
        "plt.xlabel('Loan Amount')\n",
        "plt.ylabel('Frequency')\n",
        "plt.title('Histogram of Loan Amount')\n",
        "plt.show()"
      ]
    },
    {
      "cell_type": "code",
      "execution_count": 8,
      "metadata": {
        "colab": {
          "base_uri": "https://localhost:8080/",
          "height": 452
        },
        "id": "Ob-xsjo7_ck5",
        "outputId": "0ac3eec9-4f45-4ada-a024-80ef9a971a2e"
      },
      "outputs": [
        {
          "output_type": "display_data",
          "data": {
            "text/plain": [
              "<Figure size 640x480 with 1 Axes>"
            ],
            "image/png": "[encoded data removed]"
          },
          "metadata": {}
        }
      ],
      "source": [
        "data.boxplot(column='LoanAmount')\n",
        "plt.ylabel('Loan Amount')\n",
        "plt.title('Boxplot of Loan Amount')\n",
        "plt.show()"
      ]
    },
    {
      "cell_type": "code",
      "execution_count": 9,
      "metadata": {
        "colab": {
          "base_uri": "https://localhost:8080/",
          "height": 478
        },
        "id": "0ziIampd_o7E",
        "outputId": "eb311358-4874-4953-b829-7af65a8afb82"
      },
      "outputs": [
        {
          "output_type": "display_data",
          "data": {
            "text/plain": [
              "<Figure size 640x480 with 1 Axes>"
            ],
            "image/png": "[encoded data removed]"
          },
          "metadata": {}
        }
      ],
      "source": [
        "data.boxplot(column='LoanAmount', by='Gender')\n",
        "plt.xlabel('Gender')\n",
        "plt.ylabel('Loan Amount')\n",
        "plt.show()"
      ]
    },
    {
      "cell_type": "markdown",
      "metadata": {
        "id": "fjQ59ANqAELh"
      },
      "source": [
        "LoanAmount has missing as well as extreme values, while ApplicantIncome has a few extreme values."
      ]
    },
    {
      "cell_type": "markdown",
      "metadata": {
        "id": "TTwWBdU_AMJ-"
      },
      "source": [
        "##Understanding Distribution of Categorical Variables"
      ]
    },
    {
      "cell_type": "code",
      "execution_count": 10,
      "metadata": {
        "colab": {
          "base_uri": "https://localhost:8080/"
        },
        "id": "r3lmKhShBrej",
        "outputId": "b5c3a28e-bfdc-43a0-ffc8-2299534bae48"
      },
      "outputs": [
        {
          "output_type": "stream",
          "name": "stdout",
          "text": [
            "422\n"
          ]
        }
      ],
      "source": [
        "loan_approval = data['Loan_Status'].value_counts()['Y']\n",
        "print(loan_approval)"
      ]
    },
    {
      "cell_type": "code",
      "execution_count": 11,
      "metadata": {
        "colab": {
          "base_uri": "https://localhost:8080/",
          "height": 175
        },
        "id": "djPmcLnjAD73",
        "outputId": "a06cace4-8de5-455e-a1c3-2b9126350ed3"
      },
      "outputs": [
        {
          "output_type": "execute_result",
          "data": {
            "text/plain": [
              "Loan_Status       N    Y  All\n",
              "Credit_History               \n",
              "0.0              82    7   89\n",
              "1.0              97  378  475\n",
              "All             179  385  564"
            ],
            "text/html": [
              "\n",
              "  <div id=\"df-7aeaece3-ad28-4348-88d2-663229c56033\">\n",
              "    <div class=\"colab-df-container\">\n",
              "      <div>\n",
              "<style scoped>\n",
              "    .dataframe tbody tr th:only-of-type {\n",
              "        vertical-align: middle;\n",
              "    }\n",
              "\n",
              "    .dataframe tbody tr th {\n",
              "        vertical-align: top;\n",
              "    }\n",
              "\n",
              "    .dataframe thead th {\n",
              "        text-align: right;\n",
              "    }\n",
              "</style>\n",
              "<table border=\"1\" class=\"dataframe\">\n",
              "  <thead>\n",
              "    <tr style=\"text-align: right;\">\n",
              "      <th>Loan_Status</th>\n",
              "      <th>N</th>\n",
              "      <th>Y</th>\n",
              "      <th>All</th>\n",
              "    </tr>\n",
              "    <tr>\n",
              "      <th>Credit_History</th>\n",
              "      <th></th>\n",
              "      <th></th>\n",
              "      <th></th>\n",
              "    </tr>\n",
              "  </thead>\n",
              "  <tbody>\n",
              "    <tr>\n",
              "      <th>0.0</th>\n",
              "      <td>82</td>\n",
              "      <td>7</td>\n",
              "      <td>89</td>\n",
              "    </tr>\n",
              "    <tr>\n",
              "      <th>1.0</th>\n",
              "      <td>97</td>\n",
              "      <td>378</td>\n",
              "      <td>475</td>\n",
              "    </tr>\n",
              "    <tr>\n",
              "      <th>All</th>\n",
              "      <td>179</td>\n",
              "      <td>385</td>\n",
              "      <td>564</td>\n",
              "    </tr>\n",
              "  </tbody>\n",
              "</table>\n",
              "</div>\n",
              "      <button class=\"colab-df-convert\" onclick=\"convertToInteractive('df-7aeaece3-ad28-4348-88d2-663229c56033')\"\n",
              "              title=\"Convert this dataframe to an interactive table.\"\n",
              "              style=\"display:none;\">\n",
              "        \n",
              "  <svg xmlns=\"http://www.w3.org/2000/svg\" height=\"24px\"viewBox=\"0 0 24 24\"\n",
              "       width=\"24px\">\n",
              "    <path d=\"M0 0h24v24H0V0z\" fill=\"none\"/>\n",
              "    <path d=\"M18.56 5.44l.94 2.06.94-2.06 2.06-.94-2.06-.94-.94-2.06-.94 2.06-2.06.94zm-11 1L8.5 8.5l.94-2.06 2.06-.94-2.06-.94L8.5 2.5l-.94 2.06-2.06.94zm10 10l.94 2.06.94-2.06 2.06-.94-2.06-.94-.94-2.06-.94 2.06-2.06.94z\"/><path d=\"M17.41 7.96l-1.37-1.37c-.4-.4-.92-.59-1.43-.59-.52 0-1.04.2-1.43.59L10.3 9.45l-7.72 7.72c-.78.78-.78 2.05 0 2.83L4 21.41c.39.39.9.59 1.41.59.51 0 1.02-.2 1.41-.59l7.78-7.78 2.81-2.81c.8-.78.8-2.07 0-2.86zM5.41 20L4 18.59l7.72-7.72 1.47 1.35L5.41 20z\"/>\n",
              "  </svg>\n",
              "      </button>\n",
              "      \n",
              "  <style>\n",
              "    .colab-df-container {\n",
              "      display:flex;\n",
              "      flex-wrap:wrap;\n",
              "      gap: 12px;\n",
              "    }\n",
              "\n",
              "    .colab-df-convert {\n",
              "      background-color: #E8F0FE;\n",
              "      border: none;\n",
              "      border-radius: 50%;\n",
              "      cursor: pointer;\n",
              "      display: none;\n",
              "      fill: #1967D2;\n",
              "      height: 32px;\n",
              "      padding: 0 0 0 0;\n",
              "      width: 32px;\n",
              "    }\n",
              "\n",
              "    .colab-df-convert:hover {\n",
              "      background-color: #E2EBFA;\n",
              "      box-shadow: 0px 1px 2px rgba(60, 64, 67, 0.3), 0px 1px 3px 1px rgba(60, 64, 67, 0.15);\n",
              "      fill: #174EA6;\n",
              "    }\n",
              "\n",
              "    [theme=dark] .colab-df-convert {\n",
              "      background-color: #3B4455;\n",
              "      fill: #D2E3FC;\n",
              "    }\n",
              "\n",
              "    [theme=dark] .colab-df-convert:hover {\n",
              "      background-color: #434B5C;\n",
              "      box-shadow: 0px 1px 3px 1px rgba(0, 0, 0, 0.15);\n",
              "      filter: drop-shadow(0px 1px 2px rgba(0, 0, 0, 0.3));\n",
              "      fill: #FFFFFF;\n",
              "    }\n",
              "  </style>\n",
              "\n",
              "      <script>\n",
              "        const buttonEl =\n",
              "          document.querySelector('#df-7aeaece3-ad28-4348-88d2-663229c56033 button.colab-df-convert');\n",
              "        buttonEl.style.display =\n",
              "          google.colab.kernel.accessAllowed ? 'block' : 'none';\n",
              "\n",
              "        async function convertToInteractive(key) {\n",
              "          const element = document.querySelector('#df-7aeaece3-ad28-4348-88d2-663229c56033');\n",
              "          const dataTable =\n",
              "            await google.colab.kernel.invokeFunction('convertToInteractive',\n",
              "                                                     [key], {});\n",
              "          if (!dataTable) return;\n",
              "\n",
              "          const docLinkHtml = 'Like what you see? Visit the ' +\n",
              "            '<a target=\"_blank\" href=https://colab.research.google.com/notebooks/data_table.ipynb>data table notebook</a>'\n",
              "            + ' to learn more about interactive tables.';\n",
              "          element.innerHTML = '';\n",
              "          dataTable['output_type'] = 'display_data';\n",
              "          await google.colab.output.renderOutput(dataTable, element);\n",
              "          const docLink = document.createElement('div');\n",
              "          docLink.innerHTML = docLinkHtml;\n",
              "          element.appendChild(docLink);\n",
              "        }\n",
              "      </script>\n",
              "    </div>\n",
              "  </div>\n",
              "  "
            ]
          },
          "metadata": {},
          "execution_count": 11
        }
      ],
      "source": [
        "pd.crosstab(data ['Credit_History'], data ['Loan_Status'], margins=True)"
      ]
    },
    {
      "cell_type": "markdown",
      "metadata": {
        "id": "OXcuP2bAB9so"
      },
      "source": [
        "Replace missing value of Self_Employed with more frequent category"
      ]
    },
    {
      "cell_type": "code",
      "execution_count": 12,
      "metadata": {
        "id": "KYImhpsdByzy"
      },
      "outputs": [],
      "source": [
        "data['Self_Employed'].fillna('No',inplace=True)"
      ]
    },
    {
      "cell_type": "markdown",
      "metadata": {
        "id": "PN8nvJmcCCrO"
      },
      "source": [
        "##Outliers of LoanAmount and Applicant Income"
      ]
    },
    {
      "cell_type": "code",
      "execution_count": 13,
      "metadata": {
        "colab": {
          "base_uri": "https://localhost:8080/",
          "height": 472
        },
        "id": "axGhZiQVCGpz",
        "outputId": "dd5bcb43-552a-495e-af90-dab5a1553ec6"
      },
      "outputs": [
        {
          "output_type": "display_data",
          "data": {
            "text/plain": [
              "<Figure size 640x480 with 1 Axes>"
            ],
            "image/png": "[encoded data removed]"
          },
          "metadata": {}
        }
      ],
      "source": [
        "data['TotalIncome'] = data['ApplicantIncome'] + data['CoapplicantIncome']# Add both ApplicantIncome and CoapplicantIncome to TotalIncome\n",
        "data['LoanAmount'].hist(bins=20)\n",
        "plt.xlabel('Loan Amount')\n",
        "plt.ylabel('Frequency')\n",
        "plt.title('Histogram of Loan Amount')\n",
        "plt.show()# Looking at the distribtion of TotalIncome"
      ]
    },
    {
      "cell_type": "markdown",
      "metadata": {
        "id": "bGdgKBcaDxhU"
      },
      "source": [
        "The extreme values are practically possible, i.e. some people might apply for high value loans due to specific needs. So instead of treating them as outliers, let’s try a log transformation to nullify their effect:"
      ]
    },
    {
      "cell_type": "code",
      "execution_count": 14,
      "metadata": {
        "colab": {
          "base_uri": "https://localhost:8080/",
          "height": 472
        },
        "id": "WaAJ6BBvDx-2",
        "outputId": "3a212906-ee21-44ca-9349-929466079c24"
      },
      "outputs": [
        {
          "output_type": "display_data",
          "data": {
            "text/plain": [
              "<Figure size 640x480 with 1 Axes>"
            ],
            "image/png": "[encoded data removed]"
          },
          "metadata": {}
        }
      ],
      "source": [
        "data['LoanAmount_log'] = np.log(data['LoanAmount'])# Perform log transformation of TotalIncome to make it closer to normal\n",
        "data['LoanAmount_log'].hist(bins=20)\n",
        "plt.xlabel('Log Transformed Loan Amount')\n",
        "plt.ylabel('Frequency')\n",
        "plt.title('Histogram of Log Transformed Loan Amount')\n",
        "plt.show()"
      ]
    },
    {
      "cell_type": "markdown",
      "metadata": {
        "id": "sAED2ETrFKUm"
      },
      "source": [
        "#Data Preparation for Model Building"
      ]
    },
    {
      "cell_type": "markdown",
      "metadata": {
        "id": "MbenXn7-FlkE"
      },
      "source": [
        "1. fill all the missing values in the dataset.\n",
        "2. convert all our categorical variables into numeric by encoding the categories\n",
        "3. sklearn requires all inputs to be numeric"
      ]
    },
    {
      "cell_type": "code",
      "execution_count": 15,
      "metadata": {
        "id": "Xt1UuQtUFJ1_"
      },
      "outputs": [],
      "source": [
        "data['Gender'].fillna(data['Gender'].mode()[0],inplace=True) # Impute missing values for Gender\n",
        "\n",
        "data['Married'].fillna(data['Married'].mode()[0],inplace=True) # Impute missing values for Married\n",
        "\n",
        "data['Dependents'].fillna(data['Dependents'].mode()[0],inplace=True) # Impute missing values for Dependents\n",
        "\n",
        "data['Credit_History'].fillna(data['Credit_History'].mode()[0],inplace=True) # Impute missing values for Credit_History"
      ]
    },
    {
      "cell_type": "code",
      "execution_count": 16,
      "metadata": {
        "colab": {
          "base_uri": "https://localhost:8080/"
        },
        "id": "46gKPG1PGT7X",
        "outputId": "f85cd98b-e4a3-4252-b597-14f194cabe96"
      },
      "outputs": [
        {
          "output_type": "execute_result",
          "data": {
            "text/plain": [
              "Loan_ID               object\n",
              "Gender                 int64\n",
              "Married                int64\n",
              "Dependents             int64\n",
              "Education              int64\n",
              "Self_Employed          int64\n",
              "ApplicantIncome        int64\n",
              "CoapplicantIncome    float64\n",
              "LoanAmount           float64\n",
              "Loan_Amount_Term     float64\n",
              "Credit_History         int64\n",
              "Property_Area          int64\n",
              "Loan_Status           object\n",
              "TotalIncome          float64\n",
              "LoanAmount_log       float64\n",
              "dtype: object"
            ]
          },
          "metadata": {},
          "execution_count": 16
        }
      ],
      "source": [
        "cat=['Gender','Married','Dependents','Education','Self_Employed','Credit_History','Property_Area'] # Convert all non-numeric values to number\n",
        "from sklearn import preprocessing\n",
        "from sklearn.preprocessing import LabelEncoder\n",
        "for var in cat:\n",
        "    le = preprocessing.LabelEncoder()\n",
        "    data[var]=le.fit_transform(data[var].astype('str'))\n",
        "data.dtypes"
      ]
    },
    {
      "cell_type": "markdown",
      "metadata": {
        "id": "jPlgjaQxIlqh"
      },
      "source": [
        "#Generic Classification Function"
      ]
    },
    {
      "cell_type": "code",
      "source": [
        "#Import models from scikit learn module:\n",
        "from sklearn import metrics\n",
        "from sklearn.model_selection import KFold\n",
        "\n",
        "#Generic function for making a classification model and accessing performance:\n",
        "\n",
        "def classification_model(model, data, predictors, outcome):\n",
        "    #Fit the model:\n",
        "    model.fit(data[predictors],data[outcome])\n",
        "\n",
        "    #Make predictions on training set:\n",
        "    predictions = model.predict(data[predictors])\n",
        "\n",
        "    #Print accuracy\n",
        "    accuracy = metrics.accuracy_score(predictions,data[outcome])\n",
        "    print (\"Accuracy : %s\" % \"{0:.3%}\".format(accuracy))\n",
        "\n",
        "    #Perform k-fold cross-validation with 5 folds\n",
        "    kf = KFold(data.shape[0], n_folds=5)\n",
        "    error = []\n",
        "    for train, test in kf:\n",
        "        # Filter training data\n",
        "        train_predictors = (data[predictors].iloc[train,:])\n",
        "\n",
        "        # The target we're using to train the algorithm.\n",
        "        train_target = data[outcome].iloc[train]\n",
        "\n",
        "        # Training the algorithm using the predictors and target.\n",
        "        model.fit(train_predictors, train_target)\n",
        "\n",
        "        #Record error from each cross-validation run\n",
        "        error.append(model.score(data[predictors].iloc[test,:], data[outcome].iloc[test]))\n",
        "\n",
        "    print (\"Cross-Validation Score : %s\" % \"{0:.3%}\".format(np.mean(error)))\n",
        "\n",
        "    #Fit the model again so that it can be refered outside the function:\n",
        "    model.fit(data[predictors],data[outcome])"
      ],
      "metadata": {
        "id": "FJtM0zvixQQw"
      },
      "execution_count": 46,
      "outputs": []
    },
    {
      "cell_type": "markdown",
      "metadata": {
        "id": "ZlLcJRFpKTpn"
      },
      "source": [
        "#Model Building"
      ]
    },
    {
      "cell_type": "code",
      "execution_count": 18,
      "metadata": {
        "id": "gITT7IpmKV3Y"
      },
      "outputs": [],
      "source": [
        "#Combining both train and test dataset\n",
        "\n",
        "#Create a flag for Train and Test Data set\n",
        "data['Type']='Train'\n",
        "test['Type']='Test'\n",
        "fullData = pd.concat([data,test], axis=0)"
      ]
    },
    {
      "cell_type": "code",
      "execution_count": 19,
      "metadata": {
        "colab": {
          "base_uri": "https://localhost:8080/"
        },
        "id": "FYxtYx-CKqAn",
        "outputId": "4a180940-fc39-419e-d397-63b6a54b1497"
      },
      "outputs": [
        {
          "output_type": "execute_result",
          "data": {
            "text/plain": [
              "Loan_ID                0\n",
              "Gender                11\n",
              "Married                0\n",
              "Dependents            10\n",
              "Education              0\n",
              "Self_Employed         23\n",
              "ApplicantIncome        0\n",
              "CoapplicantIncome      0\n",
              "LoanAmount            27\n",
              "Loan_Amount_Term      20\n",
              "Credit_History        29\n",
              "Property_Area          0\n",
              "Loan_Status          367\n",
              "TotalIncome          367\n",
              "LoanAmount_log       389\n",
              "Type                   0\n",
              "dtype: int64"
            ]
          },
          "metadata": {},
          "execution_count": 19
        }
      ],
      "source": [
        "#Look at the available missing values in the dataset\n",
        "fullData.isnull().sum()"
      ]
    },
    {
      "cell_type": "code",
      "execution_count": 20,
      "metadata": {
        "id": "FMU5BuvPKvfk"
      },
      "outputs": [],
      "source": [
        "#Identify categorical and continuous variables\n",
        "ID_col = ['Loan_ID']\n",
        "target_col = [\"Loan_Status\"]\n",
        "cat_cols = ['Credit_History','Dependents','Gender','Married','Education','Property_Area','Self_Employed']"
      ]
    },
    {
      "cell_type": "code",
      "execution_count": 21,
      "metadata": {
        "id": "CTC7LWq9K0R0"
      },
      "outputs": [],
      "source": [
        "#Imputing Missing values with mean for continuous variable\n",
        "fullData['LoanAmount'].fillna(fullData['LoanAmount'].mean(), inplace=True)\n",
        "fullData['LoanAmount_log'].fillna(fullData['LoanAmount_log'].mean(), inplace=True)\n",
        "fullData['Loan_Amount_Term'].fillna(fullData['Loan_Amount_Term'].mean(), inplace=True)\n",
        "fullData['ApplicantIncome'].fillna(fullData['ApplicantIncome'].mean(), inplace=True)\n",
        "fullData['CoapplicantIncome'].fillna(fullData['CoapplicantIncome'].mean(), inplace=True)\n",
        "\n",
        "#Imputing Missing values with mode for categorical variables\n",
        "fullData['Gender'].fillna(fullData['Gender'].mode()[0], inplace=True)\n",
        "fullData['Married'].fillna(fullData['Married'].mode()[0], inplace=True)\n",
        "fullData['Dependents'].fillna(fullData['Dependents'].mode()[0], inplace=True)\n",
        "fullData['Loan_Amount_Term'].fillna(fullData['Loan_Amount_Term'].mode()[0], inplace=True)\n",
        "fullData['Credit_History'].fillna(fullData['Credit_History'].mode()[0], inplace=True)"
      ]
    },
    {
      "cell_type": "code",
      "execution_count": 22,
      "metadata": {
        "id": "b9hjbpAxLAox"
      },
      "outputs": [],
      "source": [
        "#Create a new column as Total Income\n",
        "fullData['TotalIncome']=fullData['ApplicantIncome'] + fullData['CoapplicantIncome']\n",
        "\n",
        "fullData['TotalIncome_log'] = np.log(fullData['TotalIncome'])\n"
      ]
    },
    {
      "cell_type": "code",
      "execution_count": 23,
      "metadata": {
        "colab": {
          "base_uri": "https://localhost:8080/",
          "height": 472
        },
        "id": "mUTfPKIvMiv3",
        "outputId": "77b845e9-bb96-442d-c37e-011f63eda7a6"
      },
      "outputs": [
        {
          "output_type": "display_data",
          "data": {
            "text/plain": [
              "<Figure size 640x480 with 1 Axes>"
            ],
            "image/png": "[encoded data removed]"
          },
          "metadata": {}
        }
      ],
      "source": [
        "fullData['TotalIncome_log'].hist(bins=20)\n",
        "plt.xlabel('Log Transformed Total Income')\n",
        "plt.ylabel('Frequency')\n",
        "plt.title('Histogram of Log Transformed Total Income')\n",
        "plt.show()"
      ]
    },
    {
      "cell_type": "code",
      "source": [
        "# Create label encoders for categorical features\n",
        "for var in cat_cols:\n",
        "    number = LabelEncoder()\n",
        "    fullData[var] = number.fit_transform(fullData[var].astype('str'))\n",
        "\n",
        "# Split the modified data into train and test sets\n",
        "train_modified = fullData[fullData['Type'] == 'Train']\n",
        "test_modified = fullData[fullData['Type'] == 'Test']\n",
        "\n",
        "# Ensure 'Loan_ID' column is included in train_modified DataFrame\n",
        "train_modified['Loan_ID'] = fullData.loc[fullData['Type'] == 'Train', 'Loan_ID']\n",
        "\n",
        "# Encode the target variable 'Loan_Status' in train_modified\n",
        "train_modified['Loan_Status'] = number.fit_transform(train_modified['Loan_Status'].astype('str'))\n"
      ],
      "metadata": {
        "colab": {
          "base_uri": "https://localhost:8080/"
        },
        "id": "OxZt4_qlbwMC",
        "outputId": "e7eb3f9b-ad2f-45cf-a910-4d7782331a77"
      },
      "execution_count": 33,
      "outputs": [
        {
          "output_type": "stream",
          "name": "stderr",
          "text": [
            "<ipython-input-33-b5d5c3ed60be>:11: SettingWithCopyWarning: \n",
            "A value is trying to be set on a copy of a slice from a DataFrame.\n",
            "Try using .loc[row_indexer,col_indexer] = value instead\n",
            "\n",
            "See the caveats in the documentation: https://pandas.pydata.org/pandas-docs/stable/user_guide/indexing.html#returning-a-view-versus-a-copy\n",
            "  train_modified['Loan_ID'] = fullData.loc[fullData['Type'] == 'Train', 'Loan_ID']\n",
            "<ipython-input-33-b5d5c3ed60be>:14: SettingWithCopyWarning: \n",
            "A value is trying to be set on a copy of a slice from a DataFrame.\n",
            "Try using .loc[row_indexer,col_indexer] = value instead\n",
            "\n",
            "See the caveats in the documentation: https://pandas.pydata.org/pandas-docs/stable/user_guide/indexing.html#returning-a-view-versus-a-copy\n",
            "  train_modified['Loan_Status'] = number.fit_transform(train_modified['Loan_Status'].astype('str'))\n"
          ]
        }
      ]
    },
    {
      "cell_type": "markdown",
      "metadata": {
        "id": "WBVKyBEuNJhV"
      },
      "source": [
        "#Logistic Regression Model\n",
        "\n",
        "---\n",
        "\n"
      ]
    },
    {
      "cell_type": "markdown",
      "metadata": {
        "id": "bEUxEFRhNG_0"
      },
      "source": [
        "\n",
        "The chances of getting a loan will be higher for:\n",
        "\n",
        "  Applicants having a credit history (we observed this in exploration.)\n",
        "\n",
        "  Applicants with higher applicant and co-applicant incomes\n",
        "\n",
        "  Applicants with higher education level\n",
        "\n",
        "  Properties in urban areas with high growth perspectives\n",
        "\n",
        "*So let’s make our model with ‘Credit_History’, 'Education' & 'Gender'*"
      ]
    },
    {
      "cell_type": "code",
      "source": [
        "from sklearn.linear_model import LogisticRegression\n",
        "\n",
        "\n",
        "predictors_Logistic=['Credit_History','Education','Gender']\n",
        "\n",
        "x_train = train_modified[list(predictors_Logistic)].values\n",
        "y_train = train_modified[\"Loan_Status\"].values\n",
        "\n",
        "x_test=test_modified[list(predictors_Logistic)].values\n",
        "\n"
      ],
      "metadata": {
        "id": "N5z4DrayjVdP"
      },
      "execution_count": 47,
      "outputs": []
    },
    {
      "cell_type": "code",
      "source": [
        "# Import models from scikit learn module\n",
        "from sklearn import metrics\n",
        "from sklearn.model_selection import KFold\n",
        "\n",
        "# Generic function for making a classification model and accessing performance\n",
        "def classification_model(model, data, predictors, outcome):\n",
        "    # Fit the model\n",
        "    model.fit(data[predictors], data[outcome])\n",
        "\n",
        "    # Make predictions on training set\n",
        "    predictions = model.predict(data[predictors])\n",
        "\n",
        "    # Print accuracy\n",
        "    accuracy = metrics.accuracy_score(predictions, data[outcome])\n",
        "    print(\"Accuracy: {:.3%}\".format(accuracy))\n",
        "\n",
        "    # Perform k-fold cross-validation with 5 folds\n",
        "    kf = KFold(n_splits=5, shuffle=True, random_state=42)\n",
        "    accuracy_scores = []\n",
        "    for train_index, test_index in kf.split(data):\n",
        "        # Filter training data\n",
        "        train_data = data.iloc[train_index]\n",
        "        train_predictors = train_data[predictors]\n",
        "        train_outcome = train_data[outcome]\n",
        "\n",
        "        # Train the algorithm using the predictors and target\n",
        "        model.fit(train_predictors, train_outcome)\n",
        "\n",
        "        # Make predictions on test data\n",
        "        test_data = data.iloc[test_index]\n",
        "        test_predictions = model.predict(test_data[predictors])\n",
        "\n",
        "        # Calculate accuracy on the test set\n",
        "        test_accuracy = metrics.accuracy_score(test_predictions, test_data[outcome])\n",
        "        accuracy_scores.append(test_accuracy)\n",
        "\n",
        "    # Print cross-validation score\n",
        "    print(\"Cross-Validation Score: {:.3%}\".format(np.mean(accuracy_scores)))\n",
        "\n",
        "    # Fit the model again so that it can be referred outside the function\n",
        "    model.fit(data[predictors], data[outcome])\n",
        "\n",
        "# Create logistic regression object\n",
        "model = LogisticRegression()\n",
        "\n",
        "# Train the model using the training sets\n",
        "model.fit(x_train, y_train)\n",
        "\n",
        "# Predict Output\n",
        "predicted = model.predict(x_test)\n",
        "\n",
        "# Reverse encoding for predicted outcome\n",
        "predicted = number.inverse_transform(predicted)\n",
        "\n",
        "# Store it in the test dataset using .loc\n",
        "test_modified.loc[:, 'Loan_Status'] = predicted\n",
        "\n",
        "outcome_var = 'Loan_Status'\n",
        "\n",
        "classification_model(model, train_modified, predictors_Logistic, outcome_var)\n",
        "\n",
        "test_modified.to_csv(\"Logistic_Prediction.csv\", columns=['Loan_ID', 'Loan_Status'], index=False)\n"
      ],
      "metadata": {
        "colab": {
          "base_uri": "https://localhost:8080/"
        },
        "id": "8b0ZQnSszfgt",
        "outputId": "acf3f9dd-87db-401d-cc5f-b2c954d89ebd"
      },
      "execution_count": 60,
      "outputs": [
        {
          "output_type": "stream",
          "name": "stdout",
          "text": [
            "Accuracy: 80.945%\n",
            "Cross-Validation Score: 80.946%\n"
          ]
        },
        {
          "output_type": "stream",
          "name": "stderr",
          "text": [
            "<ipython-input-60-bd3fd99c9ae8>:56: SettingWithCopyWarning: \n",
            "A value is trying to be set on a copy of a slice from a DataFrame.\n",
            "Try using .loc[row_indexer,col_indexer] = value instead\n",
            "\n",
            "See the caveats in the documentation: https://pandas.pydata.org/pandas-docs/stable/user_guide/indexing.html#returning-a-view-versus-a-copy\n",
            "  test_modified.loc[:, 'Loan_Status'] = predicted\n"
          ]
        }
      ]
    },
    {
      "cell_type": "code",
      "source": [
        "loanstatus=pd.read_csv('/content/Logistic_Prediction.csv')\n",
        "loanstatus"
      ],
      "metadata": {
        "colab": {
          "base_uri": "https://localhost:8080/",
          "height": 424
        },
        "id": "eCrQjhpvzzUi",
        "outputId": "cc3463a8-bcb6-4614-dfc3-f50896d8ad79"
      },
      "execution_count": 62,
      "outputs": [
        {
          "output_type": "execute_result",
          "data": {
            "text/plain": [
              "      Loan_ID Loan_Status\n",
              "0    LP001015           Y\n",
              "1    LP001022           Y\n",
              "2    LP001031           Y\n",
              "3    LP001035           Y\n",
              "4    LP001051           Y\n",
              "..        ...         ...\n",
              "362  LP002971           Y\n",
              "363  LP002975           Y\n",
              "364  LP002980           Y\n",
              "365  LP002986           Y\n",
              "366  LP002989           Y\n",
              "\n",
              "[367 rows x 2 columns]"
            ],
            "text/html": [
              "\n",
              "  <div id=\"df-2a2e5205-73c3-4546-9912-785f78533cb1\">\n",
              "    <div class=\"colab-df-container\">\n",
              "      <div>\n",
              "<style scoped>\n",
              "    .dataframe tbody tr th:only-of-type {\n",
              "        vertical-align: middle;\n",
              "    }\n",
              "\n",
              "    .dataframe tbody tr th {\n",
              "        vertical-align: top;\n",
              "    }\n",
              "\n",
              "    .dataframe thead th {\n",
              "        text-align: right;\n",
              "    }\n",
              "</style>\n",
              "<table border=\"1\" class=\"dataframe\">\n",
              "  <thead>\n",
              "    <tr style=\"text-align: right;\">\n",
              "      <th></th>\n",
              "      <th>Loan_ID</th>\n",
              "      <th>Loan_Status</th>\n",
              "    </tr>\n",
              "  </thead>\n",
              "  <tbody>\n",
              "    <tr>\n",
              "      <th>0</th>\n",
              "      <td>LP001015</td>\n",
              "      <td>Y</td>\n",
              "    </tr>\n",
              "    <tr>\n",
              "      <th>1</th>\n",
              "      <td>LP001022</td>\n",
              "      <td>Y</td>\n",
              "    </tr>\n",
              "    <tr>\n",
              "      <th>2</th>\n",
              "      <td>LP001031</td>\n",
              "      <td>Y</td>\n",
              "    </tr>\n",
              "    <tr>\n",
              "      <th>3</th>\n",
              "      <td>LP001035</td>\n",
              "      <td>Y</td>\n",
              "    </tr>\n",
              "    <tr>\n",
              "      <th>4</th>\n",
              "      <td>LP001051</td>\n",
              "      <td>Y</td>\n",
              "    </tr>\n",
              "    <tr>\n",
              "      <th>...</th>\n",
              "      <td>...</td>\n",
              "      <td>...</td>\n",
              "    </tr>\n",
              "    <tr>\n",
              "      <th>362</th>\n",
              "      <td>LP002971</td>\n",
              "      <td>Y</td>\n",
              "    </tr>\n",
              "    <tr>\n",
              "      <th>363</th>\n",
              "      <td>LP002975</td>\n",
              "      <td>Y</td>\n",
              "    </tr>\n",
              "    <tr>\n",
              "      <th>364</th>\n",
              "      <td>LP002980</td>\n",
              "      <td>Y</td>\n",
              "    </tr>\n",
              "    <tr>\n",
              "      <th>365</th>\n",
              "      <td>LP002986</td>\n",
              "      <td>Y</td>\n",
              "    </tr>\n",
              "    <tr>\n",
              "      <th>366</th>\n",
              "      <td>LP002989</td>\n",
              "      <td>Y</td>\n",
              "    </tr>\n",
              "  </tbody>\n",
              "</table>\n",
              "<p>367 rows × 2 columns</p>\n",
              "</div>\n",
              "      <button class=\"colab-df-convert\" onclick=\"convertToInteractive('df-2a2e5205-73c3-4546-9912-785f78533cb1')\"\n",
              "              title=\"Convert this dataframe to an interactive table.\"\n",
              "              style=\"display:none;\">\n",
              "        \n",
              "  <svg xmlns=\"http://www.w3.org/2000/svg\" height=\"24px\"viewBox=\"0 0 24 24\"\n",
              "       width=\"24px\">\n",
              "    <path d=\"M0 0h24v24H0V0z\" fill=\"none\"/>\n",
              "    <path d=\"M18.56 5.44l.94 2.06.94-2.06 2.06-.94-2.06-.94-.94-2.06-.94 2.06-2.06.94zm-11 1L8.5 8.5l.94-2.06 2.06-.94-2.06-.94L8.5 2.5l-.94 2.06-2.06.94zm10 10l.94 2.06.94-2.06 2.06-.94-2.06-.94-.94-2.06-.94 2.06-2.06.94z\"/><path d=\"M17.41 7.96l-1.37-1.37c-.4-.4-.92-.59-1.43-.59-.52 0-1.04.2-1.43.59L10.3 9.45l-7.72 7.72c-.78.78-.78 2.05 0 2.83L4 21.41c.39.39.9.59 1.41.59.51 0 1.02-.2 1.41-.59l7.78-7.78 2.81-2.81c.8-.78.8-2.07 0-2.86zM5.41 20L4 18.59l7.72-7.72 1.47 1.35L5.41 20z\"/>\n",
              "  </svg>\n",
              "      </button>\n",
              "      \n",
              "  <style>\n",
              "    .colab-df-container {\n",
              "      display:flex;\n",
              "      flex-wrap:wrap;\n",
              "      gap: 12px;\n",
              "    }\n",
              "\n",
              "    .colab-df-convert {\n",
              "      background-color: #E8F0FE;\n",
              "      border: none;\n",
              "      border-radius: 50%;\n",
              "      cursor: pointer;\n",
              "      display: none;\n",
              "      fill: #1967D2;\n",
              "      height: 32px;\n",
              "      padding: 0 0 0 0;\n",
              "      width: 32px;\n",
              "    }\n",
              "\n",
              "    .colab-df-convert:hover {\n",
              "      background-color: #E2EBFA;\n",
              "      box-shadow: 0px 1px 2px rgba(60, 64, 67, 0.3), 0px 1px 3px 1px rgba(60, 64, 67, 0.15);\n",
              "      fill: #174EA6;\n",
              "    }\n",
              "\n",
              "    [theme=dark] .colab-df-convert {\n",
              "      background-color: #3B4455;\n",
              "      fill: #D2E3FC;\n",
              "    }\n",
              "\n",
              "    [theme=dark] .colab-df-convert:hover {\n",
              "      background-color: #434B5C;\n",
              "      box-shadow: 0px 1px 3px 1px rgba(0, 0, 0, 0.15);\n",
              "      filter: drop-shadow(0px 1px 2px rgba(0, 0, 0, 0.3));\n",
              "      fill: #FFFFFF;\n",
              "    }\n",
              "  </style>\n",
              "\n",
              "      <script>\n",
              "        const buttonEl =\n",
              "          document.querySelector('#df-2a2e5205-73c3-4546-9912-785f78533cb1 button.colab-df-convert');\n",
              "        buttonEl.style.display =\n",
              "          google.colab.kernel.accessAllowed ? 'block' : 'none';\n",
              "\n",
              "        async function convertToInteractive(key) {\n",
              "          const element = document.querySelector('#df-2a2e5205-73c3-4546-9912-785f78533cb1');\n",
              "          const dataTable =\n",
              "            await google.colab.kernel.invokeFunction('convertToInteractive',\n",
              "                                                     [key], {});\n",
              "          if (!dataTable) return;\n",
              "\n",
              "          const docLinkHtml = 'Like what you see? Visit the ' +\n",
              "            '<a target=\"_blank\" href=https://colab.research.google.com/notebooks/data_table.ipynb>data table notebook</a>'\n",
              "            + ' to learn more about interactive tables.';\n",
              "          element.innerHTML = '';\n",
              "          dataTable['output_type'] = 'display_data';\n",
              "          await google.colab.output.renderOutput(dataTable, element);\n",
              "          const docLink = document.createElement('div');\n",
              "          docLink.innerHTML = docLinkHtml;\n",
              "          element.appendChild(docLink);\n",
              "        }\n",
              "      </script>\n",
              "    </div>\n",
              "  </div>\n",
              "  "
            ]
          },
          "metadata": {},
          "execution_count": 62
        }
      ]
    },
    {
      "cell_type": "markdown",
      "source": [
        " # Conclusion for the loan Prediction Assignment:\n",
        "\n",
        "---\n",
        "\n",
        "\n",
        "\n",
        "In this loan status assignment, we aimed to predict the loan status of applicants based on various features such as credit history, education, and gender. We utilized a **logistic regression** model for classification and evaluated its performance using accuracy as the metric.\n",
        "\n",
        "The dataset was preprocessed by encoding categorical variables and splitting it into training and testing sets. The logistic regression model was trained on the training set and used to make predictions on the testing set. The accuracy of the model was found to be approximately 0.789, indicating that it was able to predict the loan status correctly for around **78.9%** of the test cases.\n",
        "\n",
        "Finally, a submission file ('Submission.csv') was created containing the loan IDs and corresponding loan statuses predicted by the model. The loan statuses were encoded as 'Y' for approved loans and 'N' for rejected loans.\n",
        "\n",
        "In conclusion, the logistic regression model showed promising performance in predicting loan statuses based on the provided features."
      ],
      "metadata": {
        "id": "wv8igcpwpv1c"
      }
    },
    {
      "cell_type": "code",
      "source": [],
      "metadata": {
        "id": "h64L4c3jqczM"
      },
      "execution_count": null,
      "outputs": []
    }
  ],
  "metadata": {
    "accelerator": "GPU",
    "colab": {
      "provenance": [],
      "gpuType": "T4",
      "mount_file_id": "1JrGo76nFF_KV7W2wOXqgwHc_ExR4FnOE",
      "authorship_tag": "ABX9TyPwG+NIfak7dLaJ9SR3wLcD",
      "include_colab_link": true
    },
    "kernelspec": {
      "display_name": "Python 3",
      "name": "python3"
    },
    "language_info": {
      "name": "python"
    }
  },
  "nbformat": 4,
  "nbformat_minor": 0
}